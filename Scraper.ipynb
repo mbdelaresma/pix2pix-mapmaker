{
 "cells": [
  {
   "cell_type": "code",
   "execution_count": 2,
   "metadata": {
    "ExecuteTime": {
     "end_time": "2022-03-11T22:01:12.927786Z",
     "start_time": "2022-03-11T22:01:12.803045Z"
    }
   },
   "outputs": [],
   "source": [
    "import os\n",
    "import glob\n",
    "import numpy as np\n",
    "\n",
    "from PIL import Image\n",
    "from urllib.request import urlopen"
   ]
  },
  {
   "cell_type": "code",
   "execution_count": 1,
   "metadata": {
    "ExecuteTime": {
     "end_time": "2022-03-11T22:00:11.429364Z",
     "start_time": "2022-03-11T22:00:11.414358Z"
    }
   },
   "outputs": [],
   "source": [
    "API_key = \"insert API key here\"\n",
    "\n",
    "coords = [(14.780853203244734, 120.90955600885192), (14.416295592618148, 121.14383692812082), \"Manila\",\n",
    "          (10.427664912970894, 123.77000234207509), (10.23705956509266, 124.01872390816466), \"Cebu\",\n",
    "          (7.210947405536346, 125.34628743433869), (7.0255902591203245, 125.6628045194874), \"Davao\",\n",
    "          (8.5248031891031, 124.5870501754955), (8.424525868259613, 124.6667109618823), \"CDO\",\n",
    "          (10.856901539513862, 122.45210183587388), (10.683330220860539, 122.60222523796101), \"Iloilo\",\n",
    "          (13.6544673064893, 123.1631603576015), (13.610242583616946, 123.2466802059456), \"Naga\"]\n",
    "\n",
    "cities = []\n",
    "\n",
    "areas = []\n",
    "for i in range(0, len(coords), 3):\n",
    "    name = coords[i + 2]\n",
    "    topleft = coords[i]\n",
    "    bottomright = coords[i + 1]\n",
    "    h = bottomright[0] - topleft[0]\n",
    "    w = bottomright[1] - topleft[1]\n",
    "    area = h * w\n",
    "\n",
    "    cities.append((topleft[0], topleft[1], h, w, name))\n",
    "    areas.append(area)\n",
    "    \n",
    "probs = np.array(areas) / np.sum(areas)\n",
    "\n",
    "outdir = \"./out/\"\n",
    "os.makedirs(outdir, exist_ok=True)\n",
    "\n",
    "# find existing indices\n",
    "existing_files = glob.glob(os.path.join(outdir, \"*.png\"))\n",
    "existing_indices = [int(os.path.basename(filename).split(\"_\")[0]) for filename in existing_files]\n",
    "\n",
    "num_images = 800\n",
    "city_indices = np.random.choice(len(areas), size=(num_images), p=probs)\n",
    "random_coords = np.random.rand(num_images, 2)\n",
    "\n",
    "for i in range(0, num_images):\n",
    "    if i in existing_indices:\n",
    "        continue\n",
    "    city_idx = city_indices[i]\n",
    "\n",
    "    y, x, h, w, name = cities[city_idx]\n",
    "    loc = (y + h * random_coords[i, 0], x + w * random_coords[i, 1])\n",
    "\n",
    "    savename = \"%06d_%s_%.5f_%.5f.png\" % (i, name.replace(\" \", \"_\"), loc[0], loc[1])\n",
    "    \n",
    "    styles = [\"satellite\", \"roadmap\"]\n",
    "    \n",
    "    out = Image.new('RGB', (1024, 512))\n",
    "    for j, style in enumerate(styles):\n",
    "        url = \"https://maps.googleapis.com/maps/api/staticmap?center={},{}\"+\n",
    "        \"&zoom=17&size=640x640&maptype={}&style=feature:all%7Celement:\"+\n",
    "        \"labels%7Cvisibility:off&key={}\".format(loc[0], loc[1], style, API_key)\n",
    "        \n",
    "        #url = sign_url(url, SECRET)\n",
    "        im = Image.open(urlopen(url))\n",
    "        im = im.crop((0, 0, 512, 512))\n",
    "        out.paste(im, (512 * j, 0))\n",
    "    out.save(os.path.join(outdir, savename))\n",
    "    \n",
    "    if i % 10 == 0:\n",
    "        print(savename)"
   ]
  },
  {
   "cell_type": "code",
   "execution_count": null,
   "metadata": {},
   "outputs": [],
   "source": []
  }
 ],
 "metadata": {
  "kernelspec": {
   "display_name": "Python 3",
   "language": "python",
   "name": "python3"
  },
  "language_info": {
   "codemirror_mode": {
    "name": "ipython",
    "version": 3
   },
   "file_extension": ".py",
   "mimetype": "text/x-python",
   "name": "python",
   "nbconvert_exporter": "python",
   "pygments_lexer": "ipython3",
   "version": "3.8.5"
  }
 },
 "nbformat": 4,
 "nbformat_minor": 5
}
